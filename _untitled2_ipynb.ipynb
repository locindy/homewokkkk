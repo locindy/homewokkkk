{
  "nbformat": 4,
  "nbformat_minor": 0,
  "metadata": {
    "colab": {
      "provenance": [],
      "authorship_tag": "ABX9TyMmOr7QMI03ICBHaAXxHuLj",
      "include_colab_link": true
    },
    "kernelspec": {
      "name": "python3",
      "display_name": "Python 3"
    },
    "language_info": {
      "name": "python"
    }
  },
  "cells": [
    {
      "cell_type": "markdown",
      "metadata": {
        "id": "view-in-github",
        "colab_type": "text"
      },
      "source": [
        "<a href=\"https://colab.research.google.com/github/locindy/homewokkkk/blob/main/_untitled2_ipynb.ipynb\" target=\"_parent\"><img src=\"https://colab.research.google.com/assets/colab-badge.svg\" alt=\"Open In Colab\"/></a>"
      ]
    },
    {
      "cell_type": "code",
      "execution_count": null,
      "metadata": {
        "colab": {
          "base_uri": "https://localhost:8080/"
        },
        "id": "IHwQoj9QFrVe",
        "outputId": "126d2e33-10d0-4087-966a-ad36c1537ec1"
      },
      "outputs": [
        {
          "output_type": "stream",
          "name": "stdout",
          "text": [
            "Drive already mounted at /content/drive; to attempt to forcibly remount, call drive.mount(\"/content/drive\", force_remount=True).\n"
          ]
        }
      ],
      "source": [
        "from google.colab import drive\n",
        "drive.mount('/content/drive')"
      ]
    },
    {
      "cell_type": "code",
      "source": [
        "import os\n",
        "os.chdir('/content/drive/MyDrive/exam/')"
      ],
      "metadata": {
        "id": "o_4L8569Nn6L"
      },
      "execution_count": null,
      "outputs": []
    },
    {
      "cell_type": "code",
      "source": [
        "import os\n",
        "root_path = os.getcwd()\n",
        "file_path=root_path+'/text.txt'"
      ],
      "metadata": {
        "id": "NiSfLoyEN6Qk"
      },
      "execution_count": null,
      "outputs": []
    },
    {
      "cell_type": "code",
      "source": [
        "f = open (file_path,'r')\n",
        "text=f.read ()\n",
        "f.close ()"
      ],
      "metadata": {
        "id": "BQ-sx4S7Ouho"
      },
      "execution_count": null,
      "outputs": []
    },
    {
      "cell_type": "code",
      "source": [
        "print(text)"
      ],
      "metadata": {
        "colab": {
          "base_uri": "https://localhost:8080/"
        },
        "id": "I5pOGnW5P1C-",
        "outputId": "c3a9f06d-e0c3-45e0-e660-37ad4a5322bc"
      },
      "execution_count": null,
      "outputs": [
        {
          "output_type": "stream",
          "name": "stdout",
          "text": [
            "771087196332421115188282238444755250158493858539343346487032333719625141526839555520272530988151856903286891141772423608887696859986562414811405587746238773636715160787630117125854513714221\n"
          ]
        }
      ]
    },
    {
      "cell_type": "code",
      "source": [
        "print(len(text))"
      ],
      "metadata": {
        "colab": {
          "base_uri": "https://localhost:8080/"
        },
        "id": "328Z96ubP9NY",
        "outputId": "d374c6b6-a890-4acd-e204-d78df9170b46"
      },
      "execution_count": null,
      "outputs": [
        {
          "output_type": "stream",
          "name": "stdout",
          "text": [
            "189\n"
          ]
        }
      ]
    },
    {
      "cell_type": "code",
      "source": [
        "num_str=\"771087196332421115188282238444755250158493858539343346487032333719625141526839555520272530988151856903286891141772423608887696859986562414811405587746238773636715160787630117125854513714221\"\n",
        "num_set=set(num_str)\n",
        "num_count=len(num_set)\n",
        "\n",
        "print(num_count)"
      ],
      "metadata": {
        "colab": {
          "base_uri": "https://localhost:8080/"
        },
        "id": "Yc9Q7ZtIjKD1",
        "outputId": "92ecebd7-d926-4d74-d593-f7e96dc8af73"
      },
      "execution_count": null,
      "outputs": [
        {
          "output_type": "stream",
          "name": "stdout",
          "text": [
            "10\n"
          ]
        }
      ]
    },
    {
      "cell_type": "code",
      "source": [
        "num_str=\"771087196332421115188282238444755250158493858539343346487032333719625141526839555520272530988151856903286891141772423608887696859986562414811405587746238773636715160787630117125854513714221\"\n",
        "\n",
        "even_count= 0\n",
        "for digit in num_str;\n",
        "   if int(dight)% 2==0\n",
        "     even_count+=1\n",
        "print(even_count)    "
      ],
      "metadata": {
        "colab": {
          "base_uri": "https://localhost:8080/",
          "height": 131
        },
        "id": "O4PP-ghmlHtB",
        "outputId": "cbd2920a-1743-49d4-d9a7-7d7641cf53a8"
      },
      "execution_count": null,
      "outputs": [
        {
          "output_type": "error",
          "ename": "SyntaxError",
          "evalue": "ignored",
          "traceback": [
            "\u001b[0;36m  File \u001b[0;32m\"<ipython-input-16-9c90486e5dee>\"\u001b[0;36m, line \u001b[0;32m4\u001b[0m\n\u001b[0;31m    for digit in num_str;\u001b[0m\n\u001b[0m                        ^\u001b[0m\n\u001b[0;31mSyntaxError\u001b[0m\u001b[0;31m:\u001b[0m invalid syntax\n"
          ]
        }
      ]
    },
    {
      "cell_type": "code",
      "source": [
        "data=\"771087196332421115188282238444755250158493858539343346487032333719625141526839555520272530988151856903286891141772423608887696859986562414811405587746238773636715160787630117125854513714221\"\n",
        "numbers=[int(data[i;i+3])for i in filtered_numbers=[n for n in numbers]count=len(filtered_numbers)\n",
        "print(count)"
      ],
      "metadata": {
        "colab": {
          "base_uri": "https://localhost:8080/",
          "height": 131
        },
        "id": "SlSUcKyomBHl",
        "outputId": "6de8f3cf-87d5-4377-c578-a21b5b9fa6db"
      },
      "execution_count": null,
      "outputs": [
        {
          "output_type": "error",
          "ename": "SyntaxError",
          "evalue": "ignored",
          "traceback": [
            "\u001b[0;36m  File \u001b[0;32m\"<ipython-input-21-d8999c9aebd0>\"\u001b[0;36m, line \u001b[0;32m2\u001b[0m\n\u001b[0;31m    numbers=[int(data[i;i+3])for i in filtered_numbers=[n for n in numbers]count=len(filtered_numbers)\u001b[0m\n\u001b[0m                       ^\u001b[0m\n\u001b[0;31mSyntaxError\u001b[0m\u001b[0;31m:\u001b[0m invalid syntax\n"
          ]
        }
      ]
    }
  ]
}